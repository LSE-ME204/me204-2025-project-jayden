{
 "cells": [
  {
   "cell_type": "markdown",
   "id": "d7660fd4",
   "metadata": {},
   "source": [
    "# Data Analysis"
   ]
  },
  {
   "cell_type": "markdown",
   "id": "0a2d084d",
   "metadata": {},
   "source": [
    "## Data Extraction from Database for Analysis"
   ]
  },
  {
   "cell_type": "markdown",
   "id": "b786b40e",
   "metadata": {},
   "source": [
    "Now that the data has been collected, processed, and cleaned, I then conducted exploratory data analysis to find trends, or an explanation to my original question, which was:\n",
    "- Why is the U.S. consistently less happy than the happiest countries, and can economic indicators help explain this gap?"
   ]
  },
  {
   "cell_type": "markdown",
   "id": "97ad071a",
   "metadata": {},
   "source": [
    "I was motivated by the fact that despite its wealth, the U.S. ranks lower in the World Happiness Report than many smaller European nations. I wanted to go beyond GDP and dig into structural factors like trust in government, corruption, and institutional effectiveness.  \n",
    "\n",
    "So I decided to:\n",
    "- Pull in happiness data from the World Happiness Report\n",
    "- Merge it with World Bank economic and governance indicators\n",
    "- Compare the U.S. to the **top 5 happiest countries** from the 2024 report\n",
    "- Analyze which indicators correlate most strongly with national happiness"
   ]
  },
  {
   "cell_type": "markdown",
   "id": "a4941fb1",
   "metadata": {},
   "source": [
    "First I queried the data from my database that comprises of two tables, so that I had the columns and data to use for my analysis:\n",
    "- World_Bank_Data\n",
    "- Happiness_Index_Data"
   ]
  },
  {
   "cell_type": "code",
   "execution_count": 139,
   "id": "acf5ef46",
   "metadata": {},
   "outputs": [
    {
     "name": "stdout",
     "output_type": "stream",
     "text": [
      "Requirement already satisfied: openpyxl in /opt/conda/lib/python3.12/site-packages (3.1.5)\n",
      "Requirement already satisfied: et-xmlfile in /opt/conda/lib/python3.12/site-packages (from openpyxl) (2.0.0)\n"
     ]
    }
   ],
   "source": [
    "# Importing the necessary imports and packages\n",
    "import sqlite3\n",
    "import pandas as pd\n",
    "import matplotlib.pyplot as plt\n",
    "import seaborn as sns\n",
    "!pip install openpyxl\n",
    "import sys\n",
    "sys.path.append('/files/me204-2025-project-jayden/scripts')\n",
    "from utils import load_joined_world_bank_happiness"
   ]
  },
  {
   "cell_type": "markdown",
   "id": "09a576de",
   "metadata": {},
   "source": [
    "I made a function that connects to the database and pulls the whole joined dataset from it.\n",
    "I also used this function below for an the interactive graph that I placed in the index.qmd file, which is why I made a function in utils.py, so it reduces repetition"
   ]
  },
  {
   "cell_type": "code",
   "execution_count": 140,
   "id": "bce7e869",
   "metadata": {},
   "outputs": [
    {
     "data": {
      "text/html": [
       "<div>\n",
       "<style scoped>\n",
       "    .dataframe tbody tr th:only-of-type {\n",
       "        vertical-align: middle;\n",
       "    }\n",
       "\n",
       "    .dataframe tbody tr th {\n",
       "        vertical-align: top;\n",
       "    }\n",
       "\n",
       "    .dataframe thead th {\n",
       "        text-align: right;\n",
       "    }\n",
       "</style>\n",
       "<table border=\"1\" class=\"dataframe\">\n",
       "  <thead>\n",
       "    <tr style=\"text-align: right;\">\n",
       "      <th></th>\n",
       "      <th>Rank</th>\n",
       "      <th>Country</th>\n",
       "      <th>Year</th>\n",
       "      <th>GDP_Current_USD</th>\n",
       "      <th>Health_Expenditure_percent_GDP</th>\n",
       "      <th>Education_Expenditure_percent_GDP</th>\n",
       "      <th>Unemployment_Rate_percent</th>\n",
       "      <th>Inflation_Annual_percent</th>\n",
       "      <th>FDI_Net_Inflows_percent_GDP</th>\n",
       "      <th>Population_Total</th>\n",
       "      <th>...</th>\n",
       "      <th>Rule_of_Law</th>\n",
       "      <th>Control_of_Corruption</th>\n",
       "      <th>Political_Stability</th>\n",
       "      <th>Voice_and_Accountability</th>\n",
       "      <th>GDP_Per_Capita</th>\n",
       "      <th>Happiness_Score</th>\n",
       "      <th>Social_support</th>\n",
       "      <th>Freedom_to_make_life_choices</th>\n",
       "      <th>Generosity</th>\n",
       "      <th>Perceptions_of_corruption</th>\n",
       "    </tr>\n",
       "  </thead>\n",
       "  <tbody>\n",
       "    <tr>\n",
       "      <th>0</th>\n",
       "      <td>3</td>\n",
       "      <td>Denmark</td>\n",
       "      <td>2018</td>\n",
       "      <td>355293374912</td>\n",
       "      <td>10.10</td>\n",
       "      <td>7.30</td>\n",
       "      <td>5.13</td>\n",
       "      <td>0.81</td>\n",
       "      <td>2.47</td>\n",
       "      <td>5793636</td>\n",
       "      <td>...</td>\n",
       "      <td>1.77</td>\n",
       "      <td>2.16</td>\n",
       "      <td>0.93</td>\n",
       "      <td>1.57</td>\n",
       "      <td>61324.77</td>\n",
       "      <td>7.56</td>\n",
       "      <td>1.59</td>\n",
       "      <td>0.68</td>\n",
       "      <td>0.28</td>\n",
       "      <td>0.41</td>\n",
       "    </tr>\n",
       "    <tr>\n",
       "      <th>1</th>\n",
       "      <td>2</td>\n",
       "      <td>Denmark</td>\n",
       "      <td>2019</td>\n",
       "      <td>345401473013</td>\n",
       "      <td>10.15</td>\n",
       "      <td>7.26</td>\n",
       "      <td>5.02</td>\n",
       "      <td>0.76</td>\n",
       "      <td>-1.10</td>\n",
       "      <td>5814422</td>\n",
       "      <td>...</td>\n",
       "      <td>1.83</td>\n",
       "      <td>2.12</td>\n",
       "      <td>0.97</td>\n",
       "      <td>1.54</td>\n",
       "      <td>59404.27</td>\n",
       "      <td>7.60</td>\n",
       "      <td>1.57</td>\n",
       "      <td>0.59</td>\n",
       "      <td>0.25</td>\n",
       "      <td>0.41</td>\n",
       "    </tr>\n",
       "    <tr>\n",
       "      <th>2</th>\n",
       "      <td>2</td>\n",
       "      <td>Denmark</td>\n",
       "      <td>2020</td>\n",
       "      <td>355631021932</td>\n",
       "      <td>10.72</td>\n",
       "      <td>7.38</td>\n",
       "      <td>5.64</td>\n",
       "      <td>0.42</td>\n",
       "      <td>0.36</td>\n",
       "      <td>5831404</td>\n",
       "      <td>...</td>\n",
       "      <td>1.81</td>\n",
       "      <td>2.24</td>\n",
       "      <td>0.92</td>\n",
       "      <td>1.51</td>\n",
       "      <td>60985.49</td>\n",
       "      <td>7.65</td>\n",
       "      <td>0.96</td>\n",
       "      <td>0.95</td>\n",
       "      <td>0.07</td>\n",
       "      <td>0.17</td>\n",
       "    </tr>\n",
       "    <tr>\n",
       "      <th>3</th>\n",
       "      <td>2</td>\n",
       "      <td>Denmark</td>\n",
       "      <td>2021</td>\n",
       "      <td>408378204640</td>\n",
       "      <td>10.75</td>\n",
       "      <td>7.00</td>\n",
       "      <td>5.04</td>\n",
       "      <td>1.85</td>\n",
       "      <td>4.16</td>\n",
       "      <td>5856733</td>\n",
       "      <td>...</td>\n",
       "      <td>1.90</td>\n",
       "      <td>2.33</td>\n",
       "      <td>0.93</td>\n",
       "      <td>1.54</td>\n",
       "      <td>69727.99</td>\n",
       "      <td>7.62</td>\n",
       "      <td>0.95</td>\n",
       "      <td>0.95</td>\n",
       "      <td>0.03</td>\n",
       "      <td>0.18</td>\n",
       "    </tr>\n",
       "    <tr>\n",
       "      <th>4</th>\n",
       "      <td>2</td>\n",
       "      <td>Denmark</td>\n",
       "      <td>2022</td>\n",
       "      <td>401945576108</td>\n",
       "      <td>9.48</td>\n",
       "      <td>5.30</td>\n",
       "      <td>4.43</td>\n",
       "      <td>7.70</td>\n",
       "      <td>7.67</td>\n",
       "      <td>5903037</td>\n",
       "      <td>...</td>\n",
       "      <td>1.90</td>\n",
       "      <td>2.40</td>\n",
       "      <td>0.87</td>\n",
       "      <td>1.59</td>\n",
       "      <td>68091.32</td>\n",
       "      <td>7.64</td>\n",
       "      <td>1.24</td>\n",
       "      <td>0.72</td>\n",
       "      <td>0.19</td>\n",
       "      <td>0.53</td>\n",
       "    </tr>\n",
       "  </tbody>\n",
       "</table>\n",
       "<p>5 rows × 22 columns</p>\n",
       "</div>"
      ],
      "text/plain": [
       "   Rank  Country  Year  GDP_Current_USD  Health_Expenditure_percent_GDP  \\\n",
       "0     3  Denmark  2018     355293374912                           10.10   \n",
       "1     2  Denmark  2019     345401473013                           10.15   \n",
       "2     2  Denmark  2020     355631021932                           10.72   \n",
       "3     2  Denmark  2021     408378204640                           10.75   \n",
       "4     2  Denmark  2022     401945576108                            9.48   \n",
       "\n",
       "   Education_Expenditure_percent_GDP  Unemployment_Rate_percent  \\\n",
       "0                               7.30                       5.13   \n",
       "1                               7.26                       5.02   \n",
       "2                               7.38                       5.64   \n",
       "3                               7.00                       5.04   \n",
       "4                               5.30                       4.43   \n",
       "\n",
       "   Inflation_Annual_percent  FDI_Net_Inflows_percent_GDP  Population_Total  \\\n",
       "0                      0.81                         2.47           5793636   \n",
       "1                      0.76                        -1.10           5814422   \n",
       "2                      0.42                         0.36           5831404   \n",
       "3                      1.85                         4.16           5856733   \n",
       "4                      7.70                         7.67           5903037   \n",
       "\n",
       "   ...  Rule_of_Law  Control_of_Corruption  Political_Stability  \\\n",
       "0  ...         1.77                   2.16                 0.93   \n",
       "1  ...         1.83                   2.12                 0.97   \n",
       "2  ...         1.81                   2.24                 0.92   \n",
       "3  ...         1.90                   2.33                 0.93   \n",
       "4  ...         1.90                   2.40                 0.87   \n",
       "\n",
       "   Voice_and_Accountability  GDP_Per_Capita  Happiness_Score  Social_support  \\\n",
       "0                      1.57        61324.77             7.56            1.59   \n",
       "1                      1.54        59404.27             7.60            1.57   \n",
       "2                      1.51        60985.49             7.65            0.96   \n",
       "3                      1.54        69727.99             7.62            0.95   \n",
       "4                      1.59        68091.32             7.64            1.24   \n",
       "\n",
       "   Freedom_to_make_life_choices  Generosity  Perceptions_of_corruption  \n",
       "0                          0.68        0.28                       0.41  \n",
       "1                          0.59        0.25                       0.41  \n",
       "2                          0.95        0.07                       0.17  \n",
       "3                          0.95        0.03                       0.18  \n",
       "4                          0.72        0.19                       0.53  \n",
       "\n",
       "[5 rows x 22 columns]"
      ]
     },
     "execution_count": 140,
     "metadata": {},
     "output_type": "execute_result"
    }
   ],
   "source": [
    "# Imported and used my function that connects to the database and pulls the whole joined dataset from iter\n",
    "# I used this in analysis, so it reduces repetition\n",
    "db_path = \"/files/me204-2025-project-jayden/data/database.db\"\n",
    "df = load_joined_world_bank_happiness(db_path)\n",
    "df.head()"
   ]
  },
  {
   "cell_type": "markdown",
   "id": "64958edd",
   "metadata": {},
   "source": [
    "To explore this, I looked beyond just income and GDP. In the sections that follow, I analyze deeper indicators like Rule of Law, institutional trust, and governance quality, using World Bank data to better understand what separates the happiest nations from the rest"
   ]
  },
  {
   "cell_type": "markdown",
   "id": "3804b107",
   "metadata": {},
   "source": [
    "## Exploratory Data Analysis"
   ]
  },
  {
   "cell_type": "code",
   "execution_count": 141,
   "id": "bb6f221d",
   "metadata": {},
   "outputs": [],
   "source": [
    "# Selected the top happiest countries and the US for comparison\n",
    "countries_to_plot = [\"Finland\", \"Denmark\", \"Iceland\", \"Sweden\", \"Netherlands\", \"United States\"]\n",
    "# Filtered the data to only include the countries I wanted to analyze\n",
    "line_df = df[df[\"Country\"].isin(countries_to_plot)]"
   ]
  },
  {
   "cell_type": "code",
   "execution_count": 142,
   "id": "c7be6092",
   "metadata": {},
   "outputs": [
    {
     "data": {
      "image/png": "[encoded data removed]",
      "text/plain": [
       "<Figure size 1400x800 with 1 Axes>"
      ]
     },
     "metadata": {},
     "output_type": "display_data"
    }
   ],
   "source": [
    "# Set up the plot with a larger figure size to accommodate the external legend\n",
    "plt.figure(figsize=(14, 8))\n",
    "\n",
    "# Created line plots for each country showing happiness trends over time\n",
    "sns.lineplot(data=line_df, x=\"Year\", y=\"Happiness_Score\", hue=\"Country\", linewidth=2.5)\n",
    "\n",
    "# Added a horizontal dashed line to highlight the US average happiness for comparison\n",
    "plt.axhline(y=line_df[line_df[\"Country\"] == \"United States\"][\"Happiness_Score\"].mean(),\n",
    "            linestyle=\"--\", color=\"red\", alpha=0.3, label=\"U.S. Average Happiness\")\n",
    "# Set the title and axis labels with increased font sizes for better readability\n",
    "plt.title(\"Happiness Over Time: The U.S. is Far From the Top 5\", fontsize=20, pad=20)\n",
    "plt.xlabel(\"Year\", fontsize=16)\n",
    "plt.ylabel(\"Happiness Score\", fontsize=16)\n",
    "# Positioned the legend outside the plot area on the right side to avoid overlapping data\n",
    "plt.legend(title=\"Country\", bbox_to_anchor=(1.05, 1), loc='upper left', fontsize=12, title_fontsize=14)\n",
    "# Set the x-axis limits to show only the years from 2018 to 2023\n",
    "plt.xlim(2018, 2023)\n",
    "# Added grid for easier reading of values\n",
    "plt.grid(True)\n",
    "# Applied tight layout to ensure everything fits properly with the external legend\n",
    "plt.tight_layout()\n",
    "plt.savefig(\"/files/me204-2025-project-jayden/docs/figures/happiness_over_time.svg\", format=\"svg\", bbox_inches='tight')\n",
    "plt.show()\n"
   ]
  },
  {
   "cell_type": "markdown",
   "id": "2f1e45cb",
   "metadata": {},
   "source": [
    "To begin, I visualized the Happiness Scores of the top 5 happiest countries in the 2024 World Happiness Report, which were Finland, Denmark, Iceland, Sweden, and the Netherlands, alongside the United States, spanning from 2018 to 2023.\n",
    "\n",
    "The results show that the top 5 happiest countries have consistently maintained high levels of happiness (above 7 on average), the U.S. lags noticeably behind, with more fluctuation and an average hovering closer to 6.8. This persistent gap raises an important question:\n",
    "\n",
    "Why is the U.S. consistently less happy than the happiest countries, and can economic indicators help explain this gap?\n",
    "\n",
    "To understand which factors matter most, I calculated correlations between happiness and every indicator to happiness to see any possible trends that arise. I wanted to see which factors most closely related/correlatd with happiness, which could help explain what the U.S. needs to focus on."
   ]
  },
  {
   "cell_type": "markdown",
   "id": "faf56336",
   "metadata": {},
   "source": [
    "Note*: I excluded population total in all analysis below, because that doesn't seem to be a social, government, or economic indicator, and doesn't really seem like it would matter in regards to any sort of happiness problems, since all countries in ths dataset are at healthy populations."
   ]
  },
  {
   "cell_type": "code",
   "execution_count": 143,
   "id": "444a0003",
   "metadata": {},
   "outputs": [
    {
     "data": {
      "text/html": [
       "<div>\n",
       "<style scoped>\n",
       "    .dataframe tbody tr th:only-of-type {\n",
       "        vertical-align: middle;\n",
       "    }\n",
       "\n",
       "    .dataframe tbody tr th {\n",
       "        vertical-align: top;\n",
       "    }\n",
       "\n",
       "    .dataframe thead th {\n",
       "        text-align: right;\n",
       "    }\n",
       "</style>\n",
       "<table border=\"1\" class=\"dataframe\">\n",
       "  <thead>\n",
       "    <tr style=\"text-align: right;\">\n",
       "      <th></th>\n",
       "      <th>Indicator</th>\n",
       "      <th>Correlation with Happiness Score</th>\n",
       "    </tr>\n",
       "  </thead>\n",
       "  <tbody>\n",
       "    <tr>\n",
       "      <th>0</th>\n",
       "      <td>Rule_of_Law</td>\n",
       "      <td>0.930</td>\n",
       "    </tr>\n",
       "    <tr>\n",
       "      <th>1</th>\n",
       "      <td>Voice_and_Accountability</td>\n",
       "      <td>0.866</td>\n",
       "    </tr>\n",
       "    <tr>\n",
       "      <th>2</th>\n",
       "      <td>Control_of_Corruption</td>\n",
       "      <td>0.828</td>\n",
       "    </tr>\n",
       "    <tr>\n",
       "      <th>3</th>\n",
       "      <td>Govt_Effectiveness</td>\n",
       "      <td>0.772</td>\n",
       "    </tr>\n",
       "    <tr>\n",
       "      <th>4</th>\n",
       "      <td>Political_Stability</td>\n",
       "      <td>0.702</td>\n",
       "    </tr>\n",
       "    <tr>\n",
       "      <th>5</th>\n",
       "      <td>Life_Expectancy_Years</td>\n",
       "      <td>0.684</td>\n",
       "    </tr>\n",
       "    <tr>\n",
       "      <th>6</th>\n",
       "      <td>Education_Expenditure_percent_GDP</td>\n",
       "      <td>0.386</td>\n",
       "    </tr>\n",
       "    <tr>\n",
       "      <th>7</th>\n",
       "      <td>Freedom_to_make_life_choices</td>\n",
       "      <td>0.322</td>\n",
       "    </tr>\n",
       "    <tr>\n",
       "      <th>8</th>\n",
       "      <td>Unemployment_Rate_percent</td>\n",
       "      <td>0.241</td>\n",
       "    </tr>\n",
       "    <tr>\n",
       "      <th>9</th>\n",
       "      <td>Social_support</td>\n",
       "      <td>0.037</td>\n",
       "    </tr>\n",
       "    <tr>\n",
       "      <th>10</th>\n",
       "      <td>FDI_Net_Inflows_percent_GDP</td>\n",
       "      <td>0.034</td>\n",
       "    </tr>\n",
       "    <tr>\n",
       "      <th>11</th>\n",
       "      <td>Inflation_Annual_percent</td>\n",
       "      <td>-0.029</td>\n",
       "    </tr>\n",
       "    <tr>\n",
       "      <th>12</th>\n",
       "      <td>Perceptions_of_corruption</td>\n",
       "      <td>-0.164</td>\n",
       "    </tr>\n",
       "    <tr>\n",
       "      <th>13</th>\n",
       "      <td>Generosity</td>\n",
       "      <td>-0.350</td>\n",
       "    </tr>\n",
       "    <tr>\n",
       "      <th>14</th>\n",
       "      <td>GDP_Per_Capita</td>\n",
       "      <td>-0.436</td>\n",
       "    </tr>\n",
       "    <tr>\n",
       "      <th>15</th>\n",
       "      <td>GDP_Current_USD</td>\n",
       "      <td>-0.858</td>\n",
       "    </tr>\n",
       "    <tr>\n",
       "      <th>16</th>\n",
       "      <td>Health_Expenditure_percent_GDP</td>\n",
       "      <td>-0.879</td>\n",
       "    </tr>\n",
       "  </tbody>\n",
       "</table>\n",
       "</div>"
      ],
      "text/plain": [
       "                            Indicator  Correlation with Happiness Score\n",
       "0                         Rule_of_Law                             0.930\n",
       "1            Voice_and_Accountability                             0.866\n",
       "2               Control_of_Corruption                             0.828\n",
       "3                  Govt_Effectiveness                             0.772\n",
       "4                 Political_Stability                             0.702\n",
       "5               Life_Expectancy_Years                             0.684\n",
       "6   Education_Expenditure_percent_GDP                             0.386\n",
       "7        Freedom_to_make_life_choices                             0.322\n",
       "8           Unemployment_Rate_percent                             0.241\n",
       "9                      Social_support                             0.037\n",
       "10        FDI_Net_Inflows_percent_GDP                             0.034\n",
       "11           Inflation_Annual_percent                            -0.029\n",
       "12          Perceptions_of_corruption                            -0.164\n",
       "13                         Generosity                            -0.350\n",
       "14                     GDP_Per_Capita                            -0.436\n",
       "15                    GDP_Current_USD                            -0.858\n",
       "16     Health_Expenditure_percent_GDP                            -0.879"
      ]
     },
     "execution_count": 143,
     "metadata": {},
     "output_type": "execute_result"
    }
   ],
   "source": [
    "# Drop 'Year', 'Population_Total', and 'Rank' before correlation because they are uneeded\n",
    "# and surely do not matter when comparing happiness with indicators\n",
    "filtered_for_correlations = df.drop(columns=[\"Year\", \"Rank\", \"Population_Total\"])\n",
    "\n",
    "# Computed correlations for every indicator needed\n",
    "correlations = filtered_for_correlations.corr(numeric_only=True)[\"Happiness_Score\"].drop(\"Happiness_Score\").sort_values(ascending=False)\n",
    "\n",
    "# Created the correlation table\n",
    "corr_table = pd.DataFrame({\n",
    "    \"Indicator\": correlations.index,\n",
    "    \"Correlation with Happiness Score\": correlations.values\n",
    "}).reset_index(drop=True)\n",
    "\n",
    "# Rounded the numbers by 3\n",
    "corr_table[\"Correlation with Happiness Score\"] = corr_table[\"Correlation with Happiness Score\"].round(3)\n",
    "# Styled the dataset using pandas styler\n",
    "corr_table.style.background_gradient(cmap=\"coolwarm\", subset=[\"Correlation with Happiness Score\"])\n",
    "corr_table"
   ]
  },
  {
   "cell_type": "markdown",
   "id": "c6360e3e",
   "metadata": {},
   "source": [
    "There are many insights that can be derived from the table, but to easier see this, and visualize the differences, I plotted it below on a diverging bar chart:"
   ]
  },
  {
   "cell_type": "code",
   "execution_count": 144,
   "id": "23aa5cf7",
   "metadata": {},
   "outputs": [
    {
     "name": "stderr",
     "output_type": "stream",
     "text": [
      "/tmp/ipykernel_417/927741192.py:11: FutureWarning:\n",
      "\n",
      "\n",
      "\n",
      "Passing `palette` without assigning `hue` is deprecated and will be removed in v0.14.0. Assign the `y` variable to `hue` and set `legend=False` for the same effect.\n",
      "\n",
      "\n"
     ]
    },
    {
     "data": {
      "image/png": "[encoded data removed]",
      "text/plain": [
       "<Figure size 1000x800 with 1 Axes>"
      ]
     },
     "metadata": {},
     "output_type": "display_data"
    }
   ],
   "source": [
    "# Plotted this correlation data, to better vizualize the trends\n",
    "plt.figure(figsize=(10, 8))\n",
    "\n",
    "# Converted correlations Series to DataFrame so seaborn could properly label axes\n",
    "corr_df = correlations.reset_index()\n",
    "corr_df.columns = ['Indicator', 'Correlation']\n",
    "# Replaced underscores with spaces in indicator names for better readability\n",
    "corr_df['Indicator'] = corr_df['Indicator'].str.replace('_', ' ')\n",
    "\n",
    "# Used the DataFrame approach so seaborn knew what to label the axes\n",
    "sns.barplot(data=corr_df, x='Correlation', y='Indicator', palette=\"coolwarm\")\n",
    "\n",
    "# Title and plot\n",
    "plt.title(\"Trust in Government Predicts National Happiness Better Than Wealth\", fontsize=20)\n",
    "plt.xlabel(\"Correlation Coefficient\", fontsize=15)\n",
    "plt.ylabel(\"Indicator\", fontsize=15)\n",
    "plt.tight_layout()\n",
    "# Saved the plot\n",
    "plt.savefig(\"/files/me204-2025-project-jayden/docs/figures/correlation_with_happiness.svg\", format=\"svg\", bbox_inches='tight')\n",
    "plt.show()"
   ]
  },
  {
   "cell_type": "markdown",
   "id": "6de8e3d0",
   "metadata": {},
   "source": [
    "A correlation coefficient ranges from -1 to +1. Values above 0.75 are considered strong, meaning the variables move closely together. So the governance indicators with coefficients above 0.75 show a reliably strong link to happiness\n",
    "\n",
    "One of the most surprising findings was that Health Expenditure (% of GDP) had a strong negative correlation with happiness. This metric shows how much of a country’s economy goes toward healthcare overall (doctors, hospitals, insurance, etc.), and in some cases, like the U.S., high spending doesn’t correlate to better access or quality.\n",
    "\n",
    "The strongest correlating factors with happiness were Rule of Law (0.93), Voice and Accountability (0.87), and Control of Corruption (0.83). That tells us people are happier in countries where laws are fair, leaders are accountable, and corruption is low. Government Effectiveness (0.77), Political Stability (0.70), and Life Expectancy (0.68) also had strong positive relationships. The governments stability and health clearly matter.\n",
    "\n",
    "GDP (current USD) and Population had strong negative correlations (both around -0.86), suggesting that being a large or rich country doesn’t automatically mean happier citizens. Even Generosity (-0.35) and Perceptions of Corruption (-0.16) were barely and negatively correlated.\n",
    "\n",
    "Overall, happiness seems tied less to how much a country spends or how big it is, and more to whether people feel safe, heard, politically stable, and fairly treated."
   ]
  },
  {
   "cell_type": "markdown",
   "id": "d463ad86",
   "metadata": {},
   "source": [
    "I also made a plot to visualize this correlation graph by country to see which variables most explain happiness, and to see where the U.S. falls compared to other countries. This is an interactive plot that I also included in my index.qmd, so I had to import it into an html to keep its interactivity in the Quarto markdown file"
   ]
  },
  {
   "cell_type": "code",
   "execution_count": 145,
   "id": "1f28bebb",
   "metadata": {},
   "outputs": [],
   "source": [
    "# Generated an interactive scatter plot comparing Happiness Score to various World Bank indicators\n",
    "# Included a dropdown menu to allow users to switch the x-axis variable dynamically\n",
    "\n",
    "# Imported and used my function that connects to the database and pulls the whole joined dataset from it\n",
    "# I used this in analysis, so it reduces repetition\n",
    "db_path = \"/files/me204-2025-project-jayden/data/database.db\"\n",
    "df = load_joined_world_bank_happiness(db_path)\n",
    "\n",
    "# Averaged across years to produce a single row per country.\n",
    "df = df.groupby(\"Country\", as_index=False).mean(numeric_only=True)"
   ]
  },
  {
   "cell_type": "markdown",
   "id": "772b50d8",
   "metadata": {},
   "source": [
    "I used the function that I used earlier to query the database. This was placed in utils.py. I did this to reduce redundancy, so that I could use it multiple times without have to rewrite/paste the code again in the same notebook"
   ]
  },
  {
   "cell_type": "markdown",
   "id": "60fc8b9a",
   "metadata": {},
   "source": [
    "I then made the necessary variables for the plot."
   ]
  },
  {
   "cell_type": "code",
   "execution_count": 146,
   "id": "269a6439",
   "metadata": {},
   "outputs": [],
   "source": [
    "# Selected numeric columns to use as x-axis options\n",
    "# Excluded variables that were either redundant or not meaningful for comparison for the y axis\n",
    "# Since i used happiness in the y axis, i excluded it here\n",
    "exclude = [\"Rank\", \"Year\", \"Population_Total\", \"Happiness_Score\"]\n",
    "x_vars = [col for col in df.select_dtypes(\"number\").columns if col not in exclude]\n",
    "\n",
    "# Fixed the y-axis to Happiness Score, which remained constant across views\n",
    "y = \"Happiness_Score\"\n",
    "x0 = x_vars[0]  \n",
    "# Chose the first variable as the default x-axis\n",
    "\n",
    "# Created the scatter plot figure using Plotly\n",
    "fig = go.Figure()"
   ]
  },
  {
   "cell_type": "code",
   "execution_count": 147,
   "id": "2089765e",
   "metadata": {},
   "outputs": [
    {
     "data": {
      "application/vnd.plotly.v1+json": {
       "config": {
        "plotlyServerURL": "https://plot.ly"
       },
       "data": [
        {
         "marker": {
          "color": "mediumseagreen",
          "size": 10
         },
         "mode": "markers+text",
         "name": "GDP_Current_USD vs Happiness_Score",
         "text": [
          "Denmark",
          "Finland",
          "Iceland",
          "Netherlands",
          "Sweden",
          "United States"
         ],
         "textposition": "top center",
         "type": "scatter",
         "x": {
          "bdata": "AEB59eUOVkJVNRAqGU1QQgAAsH3fmRhCq/odYGlUbUIAMG29vaRgQlVVy5bxXbVC",
          "dtype": "f8"
         },
         "y": {
          "bdata": "cD0K16NwHkCdNtBpAx0fQJf8YskvFh5Ax5JfLPnFHUBtoNMGOm0dQLHkF0t+sRtA",
          "dtype": "f8"
         }
        }
       ],
       "layout": {
        "autosize": true,
        "height": 600,
        "margin": {
         "b": 100,
         "l": 100,
         "r": 80,
         "t": 100
        },
        "template": {
         "data": {
          "bar": [
           {
            "error_x": {
             "color": "#2a3f5f"
            },
            "error_y": {
             "color": "#2a3f5f"
            },
            "marker": {
             "line": {
              "color": "#E5ECF6",
              "width": 0.5
             },
             "pattern": {
              "fillmode": "overlay",
              "size": 10,
              "solidity": 0.2
             }
            },
            "type": "bar"
           }
          ],
          "barpolar": [
           {
            "marker": {
             "line": {
              "color": "#E5ECF6",
              "width": 0.5
             },
             "pattern": {
              "fillmode": "overlay",
              "size": 10,
              "solidity": 0.2
             }
            },
            "type": "barpolar"
           }
          ],
          "carpet": [
           {
            "aaxis": {
             "endlinecolor": "#2a3f5f",
             "gridcolor": "white",
             "linecolor": "white",
             "minorgridcolor": "white",
             "startlinecolor": "#2a3f5f"
            },
            "baxis": {
             "endlinecolor": "#2a3f5f",
             "gridcolor": "white",
             "linecolor": "white",
             "minorgridcolor": "white",
             "startlinecolor": "#2a3f5f"
            },
            "type": "carpet"
           }
          ],
          "choropleth": [
           {
            "colorbar": {
             "outlinewidth": 0,
             "ticks": ""
            },
            "type": "choropleth"
           }
          ],
          "contour": [
           {
            "colorbar": {
             "outlinewidth": 0,
             "ticks": ""
            },
            "colorscale": [
             [
              0,
              "#0d0887"
             ],
             [
              0.1111111111111111,
              "#46039f"
             ],
             [
              0.2222222222222222,
              "#7201a8"
             ],
             [
              0.3333333333333333,
              "#9c179e"
             ],
             [
              0.4444444444444444,
              "#bd3786"
             ],
             [
              0.5555555555555556,
              "#d8576b"
             ],
             [
              0.6666666666666666,
              "#ed7953"
             ],
             [
              0.7777777777777778,
              "#fb9f3a"
             ],
             [
              0.8888888888888888,
              "#fdca26"
             ],
             [
              1,
              "#f0f921"
             ]
            ],
            "type": "contour"
           }
          ],
          "contourcarpet": [
           {
            "colorbar": {
             "outlinewidth": 0,
             "ticks": ""
            },
            "type": "contourcarpet"
           }
          ],
          "heatmap": [
           {
            "colorbar": {
             "outlinewidth": 0,
             "ticks": ""
            },
            "colorscale": [
             [
              0,
              "#0d0887"
             ],
             [
              0.1111111111111111,
              "#46039f"
             ],
             [
              0.2222222222222222,
              "#7201a8"
             ],
             [
              0.3333333333333333,
              "#9c179e"
             ],
             [
              0.4444444444444444,
              "#bd3786"
             ],
             [
              0.5555555555555556,
              "#d8576b"
             ],
             [
              0.6666666666666666,
              "#ed7953"
             ],
             [
              0.7777777777777778,
              "#fb9f3a"
             ],
             [
              0.8888888888888888,
              "#fdca26"
             ],
             [
              1,
              "#f0f921"
             ]
            ],
            "type": "heatmap"
           }
          ],
          "histogram": [
           {
            "marker": {
             "pattern": {
              "fillmode": "overlay",
              "size": 10,
              "solidity": 0.2
             }
            },
            "type": "histogram"
           }
          ],
          "histogram2d": [
           {
            "colorbar": {
             "outlinewidth": 0,
             "ticks": ""
            },
            "colorscale": [
             [
              0,
              "#0d0887"
             ],
             [
              0.1111111111111111,
              "#46039f"
             ],
             [
              0.2222222222222222,
              "#7201a8"
             ],
             [
              0.3333333333333333,
              "#9c179e"
             ],
             [
              0.4444444444444444,
              "#bd3786"
             ],
             [
              0.5555555555555556,
              "#d8576b"
             ],
             [
              0.6666666666666666,
              "#ed7953"
             ],
             [
              0.7777777777777778,
              "#fb9f3a"
             ],
             [
              0.8888888888888888,
              "#fdca26"
             ],
             [
              1,
              "#f0f921"
             ]
            ],
            "type": "histogram2d"
           }
          ],
          "histogram2dcontour": [
           {
            "colorbar": {
             "outlinewidth": 0,
             "ticks": ""
            },
            "colorscale": [
             [
              0,
              "#0d0887"
             ],
             [
              0.1111111111111111,
              "#46039f"
             ],
             [
              0.2222222222222222,
              "#7201a8"
             ],
             [
              0.3333333333333333,
              "#9c179e"
             ],
             [
              0.4444444444444444,
              "#bd3786"
             ],
             [
              0.5555555555555556,
              "#d8576b"
             ],
             [
              0.6666666666666666,
              "#ed7953"
             ],
             [
              0.7777777777777778,
              "#fb9f3a"
             ],
             [
              0.8888888888888888,
              "#fdca26"
             ],
             [
              1,
              "#f0f921"
             ]
            ],
            "type": "histogram2dcontour"
           }
          ],
          "mesh3d": [
           {
            "colorbar": {
             "outlinewidth": 0,
             "ticks": ""
            },
            "type": "mesh3d"
           }
          ],
          "parcoords": [
           {
            "line": {
             "colorbar": {
              "outlinewidth": 0,
              "ticks": ""
             }
            },
            "type": "parcoords"
           }
          ],
          "pie": [
           {
            "automargin": true,
            "type": "pie"
           }
          ],
          "scatter": [
           {
            "fillpattern": {
             "fillmode": "overlay",
             "size": 10,
             "solidity": 0.2
            },
            "type": "scatter"
           }
          ],
          "scatter3d": [
           {
            "line": {
             "colorbar": {
              "outlinewidth": 0,
              "ticks": ""
             }
            },
            "marker": {
             "colorbar": {
              "outlinewidth": 0,
              "ticks": ""
             }
            },
            "type": "scatter3d"
           }
          ],
          "scattercarpet": [
           {
            "marker": {
             "colorbar": {
              "outlinewidth": 0,
              "ticks": ""
             }
            },
            "type": "scattercarpet"
           }
          ],
          "scattergeo": [
           {
            "marker": {
             "colorbar": {
              "outlinewidth": 0,
              "ticks": ""
             }
            },
            "type": "scattergeo"
           }
          ],
          "scattergl": [
           {
            "marker": {
             "colorbar": {
              "outlinewidth": 0,
              "ticks": ""
             }
            },
            "type": "scattergl"
           }
          ],
          "scattermap": [
           {
            "marker": {
             "colorbar": {
              "outlinewidth": 0,
              "ticks": ""
             }
            },
            "type": "scattermap"
           }
          ],
          "scattermapbox": [
           {
            "marker": {
             "colorbar": {
              "outlinewidth": 0,
              "ticks": ""
             }
            },
            "type": "scattermapbox"
           }
          ],
          "scatterpolar": [
           {
            "marker": {
             "colorbar": {
              "outlinewidth": 0,
              "ticks": ""
             }
            },
            "type": "scatterpolar"
           }
          ],
          "scatterpolargl": [
           {
            "marker": {
             "colorbar": {
              "outlinewidth": 0,
              "ticks": ""
             }
            },
            "type": "scatterpolargl"
           }
          ],
          "scatterternary": [
           {
            "marker": {
             "colorbar": {
              "outlinewidth": 0,
              "ticks": ""
             }
            },
            "type": "scatterternary"
           }
          ],
          "surface": [
           {
            "colorbar": {
             "outlinewidth": 0,
             "ticks": ""
            },
            "colorscale": [
             [
              0,
              "#0d0887"
             ],
             [
              0.1111111111111111,
              "#46039f"
             ],
             [
              0.2222222222222222,
              "#7201a8"
             ],
             [
              0.3333333333333333,
              "#9c179e"
             ],
             [
              0.4444444444444444,
              "#bd3786"
             ],
             [
              0.5555555555555556,
              "#d8576b"
             ],
             [
              0.6666666666666666,
              "#ed7953"
             ],
             [
              0.7777777777777778,
              "#fb9f3a"
             ],
             [
              0.8888888888888888,
              "#fdca26"
             ],
             [
              1,
              "#f0f921"
             ]
            ],
            "type": "surface"
           }
          ],
          "table": [
           {
            "cells": {
             "fill": {
              "color": "#EBF0F8"
             },
             "line": {
              "color": "white"
             }
            },
            "header": {
             "fill": {
              "color": "#C8D4E3"
             },
             "line": {
              "color": "white"
             }
            },
            "type": "table"
           }
          ]
         },
         "layout": {
          "annotationdefaults": {
           "arrowcolor": "#2a3f5f",
           "arrowhead": 0,
           "arrowwidth": 1
          },
          "autotypenumbers": "strict",
          "coloraxis": {
           "colorbar": {
            "outlinewidth": 0,
            "ticks": ""
           }
          },
          "colorscale": {
           "diverging": [
            [
             0,
             "#8e0152"
            ],
            [
             0.1,
             "#c51b7d"
            ],
            [
             0.2,
             "#de77ae"
            ],
            [
             0.3,
             "#f1b6da"
            ],
            [
             0.4,
             "#fde0ef"
            ],
            [
             0.5,
             "#f7f7f7"
            ],
            [
             0.6,
             "#e6f5d0"
            ],
            [
             0.7,
             "#b8e186"
            ],
            [
             0.8,
             "#7fbc41"
            ],
            [
             0.9,
             "#4d9221"
            ],
            [
             1,
             "#276419"
            ]
           ],
           "sequential": [
            [
             0,
             "#0d0887"
            ],
            [
             0.1111111111111111,
             "#46039f"
            ],
            [
             0.2222222222222222,
             "#7201a8"
            ],
            [
             0.3333333333333333,
             "#9c179e"
            ],
            [
             0.4444444444444444,
             "#bd3786"
            ],
            [
             0.5555555555555556,
             "#d8576b"
            ],
            [
             0.6666666666666666,
             "#ed7953"
            ],
            [
             0.7777777777777778,
             "#fb9f3a"
            ],
            [
             0.8888888888888888,
             "#fdca26"
            ],
            [
             1,
             "#f0f921"
            ]
           ],
           "sequentialminus": [
            [
             0,
             "#0d0887"
            ],
            [
             0.1111111111111111,
             "#46039f"
            ],
            [
             0.2222222222222222,
             "#7201a8"
            ],
            [
             0.3333333333333333,
             "#9c179e"
            ],
            [
             0.4444444444444444,
             "#bd3786"
            ],
            [
             0.5555555555555556,
             "#d8576b"
            ],
            [
             0.6666666666666666,
             "#ed7953"
            ],
            [
             0.7777777777777778,
             "#fb9f3a"
            ],
            [
             0.8888888888888888,
             "#fdca26"
            ],
            [
             1,
             "#f0f921"
            ]
           ]
          },
          "colorway": [
           "#636efa",
           "#EF553B",
           "#00cc96",
           "#ab63fa",
           "#FFA15A",
           "#19d3f3",
           "#FF6692",
           "#B6E880",
           "#FF97FF",
           "#FECB52"
          ],
          "font": {
           "color": "#2a3f5f"
          },
          "geo": {
           "bgcolor": "white",
           "lakecolor": "white",
           "landcolor": "#E5ECF6",
           "showlakes": true,
           "showland": true,
           "subunitcolor": "white"
          },
          "hoverlabel": {
           "align": "left"
          },
          "hovermode": "closest",
          "mapbox": {
           "style": "light"
          },
          "paper_bgcolor": "white",
          "plot_bgcolor": "#E5ECF6",
          "polar": {
           "angularaxis": {
            "gridcolor": "white",
            "linecolor": "white",
            "ticks": ""
           },
           "bgcolor": "#E5ECF6",
           "radialaxis": {
            "gridcolor": "white",
            "linecolor": "white",
            "ticks": ""
           }
          },
          "scene": {
           "xaxis": {
            "backgroundcolor": "#E5ECF6",
            "gridcolor": "white",
            "gridwidth": 2,
            "linecolor": "white",
            "showbackground": true,
            "ticks": "",
            "zerolinecolor": "white"
           },
           "yaxis": {
            "backgroundcolor": "#E5ECF6",
            "gridcolor": "white",
            "gridwidth": 2,
            "linecolor": "white",
            "showbackground": true,
            "ticks": "",
            "zerolinecolor": "white"
           },
           "zaxis": {
            "backgroundcolor": "#E5ECF6",
            "gridcolor": "white",
            "gridwidth": 2,
            "linecolor": "white",
            "showbackground": true,
            "ticks": "",
            "zerolinecolor": "white"
           }
          },
          "shapedefaults": {
           "line": {
            "color": "#2a3f5f"
           }
          },
          "ternary": {
           "aaxis": {
            "gridcolor": "white",
            "linecolor": "white",
            "ticks": ""
           },
           "baxis": {
            "gridcolor": "white",
            "linecolor": "white",
            "ticks": ""
           },
           "bgcolor": "#E5ECF6",
           "caxis": {
            "gridcolor": "white",
            "linecolor": "white",
            "ticks": ""
           }
          },
          "title": {
           "x": 0.05
          },
          "xaxis": {
           "automargin": true,
           "gridcolor": "white",
           "linecolor": "white",
           "ticks": "",
           "title": {
            "standoff": 15
           },
           "zerolinecolor": "white",
           "zerolinewidth": 2
          },
          "yaxis": {
           "automargin": true,
           "gridcolor": "white",
           "linecolor": "white",
           "ticks": "",
           "title": {
            "standoff": 15
           },
           "zerolinecolor": "white",
           "zerolinewidth": 2
          }
         }
        },
        "title": {
         "text": "Governance, Not Money: See What Correlates Most with Happiness"
        },
        "updatemenus": [
         {
          "buttons": [
           {
            "args": [
             {
              "x": [
               [
                378956928485,
                280051886144.8333,
                26415193964,
                1007761948911.8334,
                571866999657.5,
                23493229333333.332
               ]
              ]
             },
             {
              "xaxis": {
               "title": {
                "standoff": 20,
                "text": "GDP Current USD"
               }
              }
             }
            ],
            "label": "GDP Current USD",
            "method": "update"
           },
           {
            "args": [
             {
              "x": [
               [
                10.103333333333333,
                9.468,
                9.138333333333334,
                10.52,
                10.931666666666667,
                17.22
               ]
              ]
             },
             {
              "xaxis": {
               "title": {
                "standoff": 20,
                "text": "Health Expenditure percent GDP"
               }
              }
             }
            ],
            "label": "Health Expenditure percent GDP",
            "method": "update"
           },
           {
            "args": [
             {
              "x": [
               [
                6.848000000000001,
                6.4675,
                7.82,
                5.3,
                7.695,
                5.1725
               ]
              ]
             },
             {
              "xaxis": {
               "title": {
                "standoff": 20,
                "text": "Education Expenditure percent GDP"
               }
              }
             }
            ],
            "label": "Education Expenditure percent GDP",
            "method": "update"
           },
           {
            "args": [
             {
              "x": [
               [
                5.058333333333333,
                7.218333333333334,
                4.171666666666667,
                3.7183333333333333,
                7.533333333333334,
                4.711666666666667
               ]
              ]
             },
             {
              "xaxis": {
               "title": {
                "standoff": 20,
                "text": "Unemployment Rate percent"
               }
              }
             }
            ],
            "label": "Unemployment Rate percent",
            "method": "update"
           },
           {
            "args": [
             {
              "x": [
               [
                2.475,
                2.9916666666666667,
                5.005,
                3.686666666666667,
                3.8850000000000002,
                3.716666666666667
               ]
              ]
             },
             {
              "xaxis": {
               "title": {
                "standoff": 20,
                "text": "Inflation Annual percent"
               }
              }
             }
            ],
            "label": "Inflation Annual percent",
            "method": "update"
           },
           {
            "args": [
             {
              "x": [
               [
                2.4466666666666668,
                2.3133333333333335,
                0.5316666666666667,
                -17.398333333333333,
                4.621666666666667,
                1.3316666666666668
               ]
              ]
             },
             {
              "xaxis": {
               "title": {
                "standoff": 20,
                "text": "FDI Net Inflows percent GDP"
               }
              }
             }
            ],
            "label": "FDI Net Inflows percent GDP",
            "method": "update"
           },
           {
            "args": [
             {
              "x": [
               [
                81.425,
                81.735,
                82.83,
                81.685,
                82.91000000000001,
                77.76
               ]
              ]
             },
             {
              "xaxis": {
               "title": {
                "standoff": 20,
                "text": "Life Expectancy Years"
               }
              }
             }
            ],
            "label": "Life Expectancy Years",
            "method": "update"
           },
           {
            "args": [
             {
              "x": [
               [
                1.915,
                1.8816666666666666,
                1.5166666666666666,
                1.7216666666666667,
                1.6316666666666666,
                1.3399999999999999
               ]
              ]
             },
             {
              "xaxis": {
               "title": {
                "standoff": 20,
                "text": "Govt Effectiveness"
               }
              }
             }
            ],
            "label": "Govt Effectiveness",
            "method": "update"
           },
           {
            "args": [
             {
              "x": [
               [
                1.8533333333333333,
                2,
                1.7149999999999999,
                1.6966666666666665,
                1.7216666666666667,
                1.3883333333333334
               ]
              ]
             },
             {
              "xaxis": {
               "title": {
                "standoff": 20,
                "text": "Rule of Law"
               }
              }
             }
            ],
            "label": "Rule of Law",
            "method": "update"
           },
           {
            "args": [
             {
              "x": [
               [
                2.271666666666667,
                2.1933333333333334,
                1.6716666666666666,
                1.925,
                2.08,
                1.125
               ]
              ]
             },
             {
              "xaxis": {
               "title": {
                "standoff": 20,
                "text": "Control of Corruption"
               }
              }
             }
            ],
            "label": "Control of Corruption",
            "method": "update"
           },
           {
            "args": [
             {
              "x": [
               [
                0.9116666666666666,
                0.8783333333333333,
                1.37,
                0.7949999999999999,
                0.935,
                0.085
               ]
              ]
             },
             {
              "xaxis": {
               "title": {
                "standoff": 20,
                "text": "Political Stability"
               }
              }
             }
            ],
            "label": "Political Stability",
            "method": "update"
           },
           {
            "args": [
             {
              "x": [
               [
                1.5683333333333334,
                1.6016666666666666,
                1.385,
                1.5166666666666666,
                1.5383333333333333,
                0.8983333333333333
               ]
              ]
             },
             {
              "xaxis": {
               "title": {
                "standoff": 20,
                "text": "Voice and Accountability"
               }
              }
             }
            ],
            "label": "Voice and Accountability",
            "method": "update"
           },
           {
            "args": [
             {
              "x": [
               [
                64664.619999999995,
                50533.72,
                71031.25333333334,
                57469.204999999994,
                55107.95333333334,
                70663.01166666667
               ]
              ]
             },
             {
              "xaxis": {
               "title": {
                "standoff": 20,
                "text": "GDP Per Capita"
               }
              }
             }
            ],
            "label": "GDP Per Capita",
            "method": "update"
           },
           {
            "args": [
             {
              "x": [
               [
                1.21,
                1.2183333333333335,
                1.2516666666666667,
                1.1716666666666666,
                1.165,
                1.1433333333333333
               ]
              ]
             },
             {
              "xaxis": {
               "title": {
                "standoff": 20,
                "text": "Social support"
               }
              }
             }
            ],
            "label": "Social support",
            "method": "update"
           },
           {
            "args": [
             {
              "x": [
               [
                0.8033333333333333,
                0.8133333333333334,
                0.8066666666666666,
                0.7600000000000001,
                0.7966666666666665,
                0.6749999999999999
               ]
              ]
             },
             {
              "xaxis": {
               "title": {
                "standoff": 20,
                "text": "Freedom to make life choices"
               }
              }
             }
            ],
            "label": "Freedom to make life choices",
            "method": "update"
           },
           {
            "args": [
             {
              "x": [
               [
                0.15833333333333335,
                0.04666666666666667,
                0.265,
                0.25333333333333335,
                0.18833333333333335,
                0.19666666666666666
               ]
              ]
             },
             {
              "xaxis": {
               "title": {
                "standoff": 20,
                "text": "Generosity"
               }
              }
             }
            ],
            "label": "Generosity",
            "method": "update"
           },
           {
            "args": [
             {
              "x": [
               [
                0.31666666666666665,
                0.31333333333333335,
                0.4166666666666667,
                0.35000000000000003,
                0.325,
                0.42166666666666663
               ]
              ]
             },
             {
              "xaxis": {
               "title": {
                "standoff": 20,
                "text": "Perceptions of corruption"
               }
              }
             }
            ],
            "label": "Perceptions of corruption",
            "method": "update"
           }
          ],
          "direction": "down",
          "pad": {
           "r": 10,
           "t": 10
          },
          "showactive": true,
          "x": 0.98,
          "xanchor": "right",
          "y": 1.15,
          "yanchor": "top"
         }
        ],
        "width": 900,
        "xaxis": {
         "automargin": true,
         "title": {
          "standoff": 20,
          "text": "GDP Current USD"
         }
        },
        "yaxis": {
         "automargin": true,
         "title": {
          "standoff": 20,
          "text": "Happiness Score"
         }
        }
       }
      }
     },
     "metadata": {},
     "output_type": "display_data"
    }
   ],
   "source": [
    "# Added a trace that plotted each country as a labeled dot\n",
    "# Used 'markers+text' mode to display country names above each point\n",
    "fig.add_trace(go.Scatter(\n",
    "    x=df[x0],\n",
    "    y=df[y],\n",
    "    mode=\"markers+text\",\n",
    "    text=df[\"Country\"],\n",
    "    textposition=\"top center\",\n",
    "    marker=dict(size=10, color=\"mediumseagreen\"),\n",
    "    name=f\"{x0} vs {y}\"\n",
    "))\n",
    "\n",
    "# Updated the layout to improve readability and fit within the page.\n",
    "fig.update_layout(\n",
    "    title=\"Governance, Not Money: See What Correlates Most with Happiness\",\n",
    "    autosize=True,\n",
    "    width=900,\n",
    "    height=600,\n",
    "    margin=dict(t=100, l=100, r=80, b=100),\n",
    "\n",
    "    # Changed the camel case formatting\n",
    "    xaxis=dict(\n",
    "        title=dict(text=x0.replace(\"_\", \" \"), standoff=20),\n",
    "        automargin=True\n",
    "    ),\n",
    "\n",
    "    # Made the formatting strong for the y axis label\n",
    "    yaxis=dict(\n",
    "        title=dict(text=\"Happiness Score\", standoff=20),\n",
    "        # Increased standoff for breathing room\n",
    "        automargin=True\n",
    "         # Moved tick labels outside the axis line\n",
    "    ),\n",
    "\n",
    "    # Added a dropdown menu that allowed users to switch the x-axis variable.\n",
    "    updatemenus=[{\n",
    "        \"buttons\": [\n",
    "            {\n",
    "                \"method\": \"update\",\n",
    "                # Used 'update' to modify existing trace and axis layout\n",
    "                # Each button updated both the x-values and the axis title to reflect the selected indicator\n",
    "                \"label\": x.replace(\"_\", \" \"),\n",
    "                \"args\": [\n",
    "                    {\"x\": [df[x]]},\n",
    "                    {\"xaxis\": {\"title\": dict(text=x.replace(\"_\", \" \"), standoff=20)}}\n",
    "                ]\n",
    "            } for x in x_vars\n",
    "            # Used a list comprehension to interactively generate buttons for columns\n",
    "        ],\n",
    "        \"direction\": \"down\",\n",
    "        # Chose dropdown style for compactness and clarity\n",
    "        \"showactive\": True,\n",
    "        # Highlighted the active selection for user feedback\n",
    "        \"x\": 0.98,\n",
    "        \"y\": 1.15,\n",
    "        \"xanchor\": \"right\",\n",
    "        \"yanchor\": \"top\",\n",
    "        \"pad\": {\"r\": 10, \"t\": 10}\n",
    "        # Added padding to prevent overlap with chart elements\n",
    "    }]\n",
    ")\n",
    "\n",
    "# Rendered the chart in the Quarto page.\n",
    "# Made sure to import it into an html so i can include it in the quarto markdown file\n",
    "fig.write_html(\"../docs/interactive_happiness_scatter.html\")\n",
    "fig.show()"
   ]
  },
  {
   "cell_type": "markdown",
   "id": "d5ea47c3",
   "metadata": {},
   "source": [
    "You can see how consistently governance metrics show the most correlation to happiness than economic ones. Besides government factors, even indicators like Freedom to make life choices and Social support showed stronger patterns than GDP. It made me rethink what development actually means, and how we measure success and happiness."
   ]
  },
  {
   "cell_type": "markdown",
   "id": "2586e615",
   "metadata": {},
   "source": [
    "Since governance indicators showed the strongest link to happiness, I focused on four key ones to see how the U.S. compares to the happiest nations:\n",
    "- Rule of Law\n",
    "- Control of Corruption\n",
    "- Government Effectiveness\n",
    "- Political Stability\n",
    "\n",
    "I chose four specifically because the [National Library of Medicine](https://pmc.ncbi.nlm.nih.gov/articles/PMC4913118/) states that a correlation coefficient above 0.75 constitutes as good or excellent reliability. Those 4 variable are the only ones above 0.75 correlation coeffiecient"
   ]
  },
  {
   "cell_type": "code",
   "execution_count": 148,
   "id": "edc8a639",
   "metadata": {},
   "outputs": [],
   "source": [
    "# Dropped all the rows that I am not using, that have low correlations\n",
    "df_clean = df.dropna(subset=[\n",
    "    \"Happiness_Score\", \n",
    "    \"GDP_Per_Capita\", \n",
    "    \"Rule_of_Law\", \n",
    "    \"Control_of_Corruption\", \n",
    "    \"Govt_Effectiveness\", \n",
    "    \"Political_Stability\"\n",
    "])\n",
    "\n",
    "# Grouped by countries, and took the average from all the years collected so it\n",
    "# takes into account data throughout the years, and not just the most previous year\n",
    "df_avg = df_clean.groupby(\"Country\", as_index=False).mean(numeric_only=True)\n",
    "\n",
    "# These are the economic indicators with the highest positive correlations to loop through\n",
    "indicators = [\n",
    "    \"Rule_of_Law\", \n",
    "    \"Control_of_Corruption\", \n",
    "    \"Govt_Effectiveness\", \n",
    "    \"Political_Stability\"\n",
    "]"
   ]
  },
  {
   "cell_type": "markdown",
   "id": "f76207bd",
   "metadata": {},
   "source": [
    "Now that I dropped all of the columns except the top 4, I could proceed making the vizualization\n"
   ]
  },
  {
   "cell_type": "code",
   "execution_count": 149,
   "id": "c37fd1f3",
   "metadata": {},
   "outputs": [
    {
     "name": "stderr",
     "output_type": "stream",
     "text": [
      "/tmp/ipykernel_417/4269433080.py:89: UserWarning:\n",
      "\n",
      "Tight layout not applied. The bottom and top margins cannot be made large enough to accommodate all Axes decorations.\n",
      "\n"
     ]
    },
    {
     "data": {
      "image/png": "[encoded data removed]",
      "text/plain": [
       "<Figure size 1800x1400 with 4 Axes>"
      ]
     },
     "metadata": {},
     "output_type": "display_data"
    }
   ],
   "source": [
    "# Sets up the plot size, and axis to ensure the right format\n",
    "fig, axes = plt.subplots(2, 2, figsize=(18, 14))\n",
    "axes = axes.flatten()\n",
    "\n",
    "# Iterated over each governance indicator and plot corresponding data using enumerate\n",
    "for index, indicator in enumerate(indicators):\n",
    "    ax = axes[index]\n",
    "    \n",
    "    # Plotted countries that are not the United States so they can match the same color and format\n",
    "    non_us_df = df_avg[df_avg[\"Country\"] != \"United States\"]\n",
    "    # If its not the united states, then make the color of it skyblue\n",
    "    ax.scatter(\n",
    "        non_us_df[indicator], \n",
    "        # Plot the economic indicator that we have in the current loop at the moment\n",
    "        # As well as the happiness score\n",
    "        non_us_df[\"Happiness_Score\"], \n",
    "        color='skyblue', \n",
    "        s=150,\n",
    "        alpha=0.6, \n",
    "        edgecolor=\"k\"\n",
    "    )\n",
    "    \n",
    "    # I plotted the United States differently becuase I am comparing that to top 2024 happiest countries\n",
    "    us_row = df_avg[df_avg[\"Country\"] == \"United States\"]\n",
    "    # Ensured this is inside the loop\n",
    "    ax.scatter(\n",
    "        us_row[indicator], \n",
    "        us_row[\"Happiness_Score\"], \n",
    "        color='red', \n",
    "        s=150,\n",
    "        alpha=0.8, \n",
    "        edgecolor=\"k\"\n",
    "    )\n",
    "    \n",
    "    # Annotated countries (including US) using list comprehension,\n",
    "    # with different annotation for the US\n",
    "    country_rows = [\n",
    "        row for row in df_avg.itertuples(index=False) \n",
    "        if getattr(row, indicator) > 1.0 or row.Happiness_Score > 6.5\n",
    "    ]\n",
    "    \n",
    "    # Annotated each qualifying country on the plot.\n",
    "    # The U.S. label is positioned and colored differently for prominence.\n",
    "    annotations = [\n",
    "        ax.annotate(\n",
    "            row.Country,\n",
    "            (getattr(row, indicator), row.Happiness_Score),\n",
    "            # Offset the text position differently for the US and other countries\n",
    "            textcoords=\"offset points\",\n",
    "            # Aligned text differently to avoid overlap and improve readability\n",
    "            xytext=(10, -10) if row.Country == \"United States\" else (-20, 0),\n",
    "            # Colored the US label red for visibility, others use default color\n",
    "            ha='left' if row.Country == \"United States\" else 'right',\n",
    "            fontsize=15,\n",
    "            color='red' if row.Country == \"United States\" else None,\n",
    "            # Slight transparency for annotation text\n",
    "            alpha=0.7\n",
    "        )\n",
    "        for row in country_rows  \n",
    "        # Looped over all selected countries\n",
    "    ]\n",
    "    \n",
    "    # Set descriptive axis labels and title with improved readability.\n",
    "    # Changed the column name to have spaces instead of camel case\n",
    "    # Used labelpad to space out axes\n",
    "    ax.set_xlabel(f\"Average {indicator.replace('_', ' ')}\", fontsize=18, labelpad=10)\n",
    "    ax.set_ylabel(\"Average Happiness Score\", fontsize=18, labelpad=10)\n",
    "    ax.tick_params(axis='both', which='major', labelsize=16)\n",
    "    ax.grid(True, alpha=0.3)\n",
    "\n",
    "# Add main title\n",
    "plt.suptitle(\n",
    "    \"Governance Matters: Nations with Better Rule and Stability Report Higher Happiness\",\n",
    "    fontsize=22,\n",
    "    y=0.98\n",
    ")\n",
    "\n",
    "# Added subtitle\n",
    "plt.figtext(\n",
    "    0.5, 0.94,\n",
    "    \"\\n\\nExploring the relationship between governance quality and citizen well-being across countries\",\n",
    "    ha='center',\n",
    "    fontsize=16,\n",
    "    style='italic',\n",
    "    color='gray'\n",
    ")\n",
    "\n",
    "# Overall layout, title, and plot\n",
    "plt.tight_layout(rect=[0, 5, 1, 0.88], h_pad=3.0, w_pad=2.0)\n",
    "plt.savefig(\"/files/me204-2025-project-jayden/docs/figures/governance_vs_happiness.svg\", format=\"svg\", bbox_inches='tight')\n",
    "plt.show()"
   ]
  },
  {
   "cell_type": "markdown",
   "id": "c2105638",
   "metadata": {},
   "source": [
    "### Note on Scatterplot Axis Scales*\n",
    "\n",
    "To improve readability and highlight meaningful patterns, I adjusted the axis ranges in the scatterplots.\n",
    "\n",
    "- For **Rule of Law**, **Control of Corruption**, and **Government Effectiveness**: I set the x-axis to range from **1.4 to 2.0**.\n",
    "- On the y-axis, which represents **Average Happiness Score**: I limited the range to **6.8 to 7.8**. This allowed the picture to focus on countries with relatively high levels of happiness, which is the main comparison group relevant to the main question, and avoid visual clutter.\n",
    "\n",
    "These axis limits were not chosen to exaggerate relationships, but rather to **avoid overlapping points** and improve the visual clarity of trends among the countries of interest, making the patterns and differences easier to interpret.\n",
    "\n",
    "In addition to this, a “1-Point” Gap Is Bigger Than It Looks.\n",
    "The governance indicator are standardized scores ranging from roughly -2.5 to +2.5. So when the U.S. scores around +1.2, and countries like Finland or Denmark score +2.2, that’s not just a small numerical gap, it’s a full standard deviation or more. That’s a major shift in governance quality."
   ]
  },
  {
   "cell_type": "markdown",
   "id": "bcb319af",
   "metadata": {},
   "source": [
    "### Scatterplot Analysis"
   ]
  },
  {
   "cell_type": "markdown",
   "id": "a182387e",
   "metadata": {},
   "source": [
    "Could weak governance be holding back U.S. happiness?\n",
    "\n",
    "Looking at these four scatter plots, I found something pretty interesting about what actually makes countries happy. Even though the U.S. has one of the highest GDPs in the world, it consistently scores lower on happiness compared to countries like Finland, Denmark, and Sweden.\n",
    " \n",
    "What really stood out was how these happy countries managed to achieve higher happiness scores despite not necessarily having higher economic output than the U.S. The key difference seemed to be in their governance quality, specifically how well their institutions function and how much citizens trust their government.\n",
    "\n",
    "In almost all of the plots, the happiest countries all cluster in the upper right corner. They have both governance scores and high happiness. The U.S., marked in red, sits noticeably lower on both dimensions. This pattern repeated across all four governance indicators.\n",
    " \n",
    "The Control of Corruption plot was particularly telling. The happiest countries all scored very high on corruption control, while the U.S. lagged behind. This suggests that people are happier when they feel their institutions are clean and trustworthy, regardless of how wealthy their country might be overall.\n",
    "\n",
    "Government Effectiveness and Political Stability showed similar patterns. The U.S. consistently underperformed relative to its economic status, while smaller countries with strong institutions punched above their weight in terms of citizen wellbeing."
   ]
  },
  {
   "cell_type": "markdown",
   "id": "8f7cb244",
   "metadata": {},
   "source": [
    "## Conclusion"
   ]
  },
  {
   "cell_type": "markdown",
   "id": "63275d80",
   "metadata": {},
   "source": [
    "So what does this all mean?\n",
    "\n",
    "This analysis helps understand why the U.S. happiness gap exists. It seems as if it's not about money. It could moreso be about trust, fairness, and feeling like the system works for everyone. The happiest countries have figured out how to build institutions that people believe in, and that translates directly into higher life satisfaction.\n",
    "\n",
    "The data showed me that governance quality might be more important for happiness than raw economic power. Countries can't just spend their way to citizen wellbeing, they need to build transparent, effective institutions that people actually trust.\n",
    "\n",
    "In short, happy nations aren’t just rich. They’re well-governed, trusted, and stable. That might be the real foundation of national wellbeing."
   ]
  }
 ],
 "metadata": {
  "kernelspec": {
   "display_name": "base",
   "language": "python",
   "name": "python3"
  },
  "language_info": {
   "codemirror_mode": {
    "name": "ipython",
    "version": 3
   },
   "file_extension": ".py",
   "mimetype": "text/x-python",
   "name": "python",
   "nbconvert_exporter": "python",
   "pygments_lexer": "ipython3",
   "version": "3.12.10"
  }
 },
 "nbformat": 4,
 "nbformat_minor": 5
}
